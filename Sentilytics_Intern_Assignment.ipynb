{
  "nbformat": 4,
  "nbformat_minor": 0,
  "metadata": {
    "colab": {
      "provenance": []
    },
    "kernelspec": {
      "name": "python3",
      "display_name": "Python 3"
    },
    "language_info": {
      "name": "python"
    }
  },
  "cells": [
    {
      "cell_type": "code",
      "execution_count": 77,
      "metadata": {
        "id": "rutZVB0bFR0H"
      },
      "outputs": [],
      "source": [
        "# import libraries\n",
        "import pandas as pd\n",
        "import numpy as np\n",
        "import re\n",
        "import plotly.express as px\n",
        "import plotly.graph_objects as go\n",
        "from PIL import Image"
      ]
    },
    {
      "cell_type": "code",
      "source": [
        "# read csv data\n",
        "df = pd.read_csv(\"beebom_data.csv\")"
      ],
      "metadata": {
        "id": "Amazt6U0F2LQ"
      },
      "execution_count": 78,
      "outputs": []
    },
    {
      "cell_type": "markdown",
      "source": [
        "**Below 6 code cells are responsible for data manipulation**\n",
        "\n"
      ],
      "metadata": {
        "id": "QxPRJdKF7Tye"
      }
    },
    {
      "cell_type": "code",
      "source": [
        "remove_columns = ['Unnamed: 0', 'channel_id']\n",
        "df = df.drop(remove_columns, axis=1)"
      ],
      "metadata": {
        "id": "MovglIugHZrv"
      },
      "execution_count": 79,
      "outputs": []
    },
    {
      "cell_type": "code",
      "source": [
        "df['published_at'] = df['published_at'].astype('string')\n",
        "df['published_at'] = df['published_at'].str.replace(\"2023\",\"\")\n",
        "df['published_at'] = df['published_at'].str.replace(\",\",\"\",regex=True)"
      ],
      "metadata": {
        "id": "GntcEGY3IXCu"
      },
      "execution_count": 80,
      "outputs": []
    },
    {
      "cell_type": "code",
      "source": [
        "df['published_month'] = df['published_at'].str.split().str[0]\n",
        "conditions = [\n",
        "    df['published_month'] == 'April',\n",
        "    df['published_month'] == 'May',\n",
        "    df['published_month'] == 'June'\n",
        "]\n",
        "choices = ['Apr', 'May', 'Jun']\n",
        "\n",
        "df['published_month'] = np.select(conditions, choices, default='Unknown')"
      ],
      "metadata": {
        "id": "lD3k3HHCVoy9"
      },
      "execution_count": 81,
      "outputs": []
    },
    {
      "cell_type": "code",
      "source": [
        "df['published_date'] = df['published_month'].str.cat(df['published_at'].str.split().str[1], sep='-')"
      ],
      "metadata": {
        "id": "APVu5X3tX82A"
      },
      "execution_count": 82,
      "outputs": []
    },
    {
      "cell_type": "code",
      "source": [
        "remove_columns = ['published_at']\n",
        "df = df.drop(remove_columns, axis=1)"
      ],
      "metadata": {
        "id": "D2WJdyNfZzzm"
      },
      "execution_count": 83,
      "outputs": []
    },
    {
      "cell_type": "code",
      "source": [
        "# Prepare data for View count trend plot\n",
        "df['Month'] = df['published_date'].str.split('-', expand=True)[0]\n",
        "df['Date'] = df['published_date'].str.split('-', expand=True)[1]\n",
        "df['Month'] = pd.Categorical(df['Month'], categories=['Jan', 'Feb', 'Mar', 'Apr', 'May',\n",
        "                                                                 'Jun', 'Jul', 'Aug', 'Sep', 'Oct',\n",
        "                                                                 'Nov', 'Dec'], ordered=True)\n",
        "df = df.sort_values(['Month','Date'])"
      ],
      "metadata": {
        "id": "MfQ8v45W_Prz"
      },
      "execution_count": 98,
      "outputs": []
    },
    {
      "cell_type": "markdown",
      "source": [
        "**Below chart represents View count trend from April to June 2023**\n",
        "- X axis reprent the release date and Y axis represent number of views\n",
        "- Number of Likes for that data point is displayed on the top of each bar\n",
        "- The hover data includes Published date, View count,Likes and Title of the video\n"
      ],
      "metadata": {
        "id": "nZn-IcTCIXQA"
      }
    },
    {
      "cell_type": "code",
      "source": [
        "# Plot horizontal bar chart\n",
        "fig = px.bar(df, x=\"published_date\", y=\"view_count\",text=\"like_count\",color_discrete_sequence=[px.colors.qualitative.Dark24[23]],hover_data={'like_count': True,'title':True})\n",
        "fig.update_traces(textposition='auto')\n",
        "fig.update_traces(textangle=0)\n",
        "fig.update_layout(bargap=0.1)\n",
        "fig.update_layout(title = {'text':'<b>View Count Trend: April to June 2023</b>','font':{'size':30,'family':'Arial'}},title_x=0.5, xaxis_title=\"<b>Published Date</b>\", yaxis_title=\"<b>Number of Views</b>\")\n",
        "fig.update_traces(hovertemplate='Published Date: %{x}<br>View Count: %{y}<br>Likes: %{customdata[0]}<br>Title: %{customdata[1]}')\n",
        "fig.update_layout(template=\"plotly_white\")\n",
        "\n",
        "# Add logo to plot\n",
        "img = Image.open(\"image.png\")\n",
        "fig.add_layout_image(\n",
        "    dict(\n",
        "        source=img,\n",
        "        xref=\"paper\",\n",
        "        yref=\"paper\",\n",
        "        x=1,\n",
        "        y=1.15,\n",
        "        sizex=0.2,\n",
        "        sizey=0.2,\n",
        "        xanchor=\"right\",\n",
        "        yanchor=\"top\",\n",
        "        opacity=1,\n",
        "        layer=\"above\"\n",
        "    )\n",
        ")\n",
        "\n",
        "# Display the final plot\n",
        "fig.show()"
      ],
      "metadata": {
        "id": "F5EXkhR7IXaG",
        "colab": {
          "base_uri": "https://localhost:8080/",
          "height": 542
        },
        "outputId": "c2ca79cd-a78f-49cf-bd84-0da5a832d221"
      },
      "execution_count": 99,
      "outputs": [
        {
          "output_type": "display_data",
          "data": {
            "text/html": [
              "<html>\n",
              "<head><meta charset=\"utf-8\" /></head>\n",
              "<body>\n",
              "    <div>            <script src=\"https://cdnjs.cloudflare.com/ajax/libs/mathjax/2.7.5/MathJax.js?config=TeX-AMS-MML_SVG\"></script><script type=\"text/javascript\">if (window.MathJax && window.MathJax.Hub && window.MathJax.Hub.Config) {window.MathJax.Hub.Config({SVG: {font: \"STIX-Web\"}});}</script>                <script type=\"text/javascript\">window.PlotlyConfig = {MathJaxConfig: 'local'};</script>\n",
              "        <script src=\"https://cdn.plot.ly/plotly-2.18.2.min.js\"></script>                <div id=\"3d51ac50-a0b5-41aa-abb8-450558632d50\" class=\"plotly-graph-div\" style=\"height:525px; width:100%;\"></div>            <script type=\"text/javascript\">                                    window.PLOTLYENV=window.PLOTLYENV || {};                                    if (document.getElementById(\"3d51ac50-a0b5-41aa-abb8-450558632d50\")) {                    Plotly.newPlot(                        \"3d51ac50-a0b5-41aa-abb8-450558632d50\",                        [{\"alignmentgroup\":\"True\",\"customdata\":[[2662,\"Dell Inspiron 16 2-in-1 (2023): Really Good Hardware!\"],[17036,\"The Best Phone Deal Right Now!\"],[8714,\"The Best Laptop Deal for Students!\"],[4400,\"ASUS ZenBook S13 OLED: The Ultra Light Windows Champ!\"],[23050,\"7 Awesome Gadgets for Home!\"],[9690,\"OnePlus Pad: Impressive Android Tablet!\"],[3258,\"Tecno Phantom V Fold: Finally, An Affordable Foldable!\"],[33642,\"The Best Phone Under \\u20b920,000!\"],[12167,\"15 Quality Deals on Flipkart & Amazon Right Now!\"],[3031,\"ASUS Zenbook Pro 14 Duo (2023): Dual Screens Get Better!\"],[10944,\"POCO F5: Snapdragon 7+ Gen 2 is \\ud83d\\udd25\"],[11271,\"Pixel 7a: Google Fixed It!\"],[3607,\"Dell G16 (2023): High Performance, Better Price!\"],[2743,\"ASUS ROG Strix G18: Core i9 + 4070 at Great Price?\"],[13169,\"8 Super Useful Gadgets for Students!\"],[9591,\"Moto Edge 40: A Good Option Under 30K?\"],[8885,\"Lava Agni 2 Review: The Good, The Bad, The Best!\"],[4452,\"QLED vs LED TV at 30K: Don't Make This Mistake!\"],[12693,\"7 Dangerous Android Settings You Need to Turn Off!\"],[3476,\"Samsung Galaxy F54 First Impressions!\"]],\"hovertemplate\":\"Published Date: %{x}<br>View Count: %{y}<br>Likes: %{customdata[0]}<br>Title: %{customdata[1]}\",\"legendgroup\":\"\",\"marker\":{\"color\":\"#AF0038\",\"pattern\":{\"shape\":\"\"}},\"name\":\"\",\"offsetgroup\":\"\",\"orientation\":\"v\",\"showlegend\":false,\"text\":[2662.0,17036.0,8714.0,4400.0,23050.0,9690.0,3258.0,33642.0,12167.0,3031.0,10944.0,11271.0,3607.0,2743.0,13169.0,9591.0,8885.0,4452.0,12693.0,3476.0],\"textposition\":\"auto\",\"x\":[\"Apr-14\",\"Apr-16\",\"Apr-19\",\"Apr-21\",\"Apr-26\",\"Apr-28\",\"Apr-29\",\"May-03\",\"May-04\",\"May-08\",\"May-09\",\"May-10\",\"May-15\",\"May-17\",\"May-20\",\"May-23\",\"May-26\",\"May-30\",\"Jun-03\",\"Jun-06\"],\"xaxis\":\"x\",\"y\":[88708,562316,289383,120612,683052,408002,102182,1227866,408625,85160,310079,321738,103402,77679,370521,271683,168100,124445,217477,87286],\"yaxis\":\"y\",\"type\":\"bar\",\"textangle\":0}],                        {\"template\":{\"data\":{\"barpolar\":[{\"marker\":{\"line\":{\"color\":\"white\",\"width\":0.5},\"pattern\":{\"fillmode\":\"overlay\",\"size\":10,\"solidity\":0.2}},\"type\":\"barpolar\"}],\"bar\":[{\"error_x\":{\"color\":\"#2a3f5f\"},\"error_y\":{\"color\":\"#2a3f5f\"},\"marker\":{\"line\":{\"color\":\"white\",\"width\":0.5},\"pattern\":{\"fillmode\":\"overlay\",\"size\":10,\"solidity\":0.2}},\"type\":\"bar\"}],\"carpet\":[{\"aaxis\":{\"endlinecolor\":\"#2a3f5f\",\"gridcolor\":\"#C8D4E3\",\"linecolor\":\"#C8D4E3\",\"minorgridcolor\":\"#C8D4E3\",\"startlinecolor\":\"#2a3f5f\"},\"baxis\":{\"endlinecolor\":\"#2a3f5f\",\"gridcolor\":\"#C8D4E3\",\"linecolor\":\"#C8D4E3\",\"minorgridcolor\":\"#C8D4E3\",\"startlinecolor\":\"#2a3f5f\"},\"type\":\"carpet\"}],\"choropleth\":[{\"colorbar\":{\"outlinewidth\":0,\"ticks\":\"\"},\"type\":\"choropleth\"}],\"contourcarpet\":[{\"colorbar\":{\"outlinewidth\":0,\"ticks\":\"\"},\"type\":\"contourcarpet\"}],\"contour\":[{\"colorbar\":{\"outlinewidth\":0,\"ticks\":\"\"},\"colorscale\":[[0.0,\"#0d0887\"],[0.1111111111111111,\"#46039f\"],[0.2222222222222222,\"#7201a8\"],[0.3333333333333333,\"#9c179e\"],[0.4444444444444444,\"#bd3786\"],[0.5555555555555556,\"#d8576b\"],[0.6666666666666666,\"#ed7953\"],[0.7777777777777778,\"#fb9f3a\"],[0.8888888888888888,\"#fdca26\"],[1.0,\"#f0f921\"]],\"type\":\"contour\"}],\"heatmapgl\":[{\"colorbar\":{\"outlinewidth\":0,\"ticks\":\"\"},\"colorscale\":[[0.0,\"#0d0887\"],[0.1111111111111111,\"#46039f\"],[0.2222222222222222,\"#7201a8\"],[0.3333333333333333,\"#9c179e\"],[0.4444444444444444,\"#bd3786\"],[0.5555555555555556,\"#d8576b\"],[0.6666666666666666,\"#ed7953\"],[0.7777777777777778,\"#fb9f3a\"],[0.8888888888888888,\"#fdca26\"],[1.0,\"#f0f921\"]],\"type\":\"heatmapgl\"}],\"heatmap\":[{\"colorbar\":{\"outlinewidth\":0,\"ticks\":\"\"},\"colorscale\":[[0.0,\"#0d0887\"],[0.1111111111111111,\"#46039f\"],[0.2222222222222222,\"#7201a8\"],[0.3333333333333333,\"#9c179e\"],[0.4444444444444444,\"#bd3786\"],[0.5555555555555556,\"#d8576b\"],[0.6666666666666666,\"#ed7953\"],[0.7777777777777778,\"#fb9f3a\"],[0.8888888888888888,\"#fdca26\"],[1.0,\"#f0f921\"]],\"type\":\"heatmap\"}],\"histogram2dcontour\":[{\"colorbar\":{\"outlinewidth\":0,\"ticks\":\"\"},\"colorscale\":[[0.0,\"#0d0887\"],[0.1111111111111111,\"#46039f\"],[0.2222222222222222,\"#7201a8\"],[0.3333333333333333,\"#9c179e\"],[0.4444444444444444,\"#bd3786\"],[0.5555555555555556,\"#d8576b\"],[0.6666666666666666,\"#ed7953\"],[0.7777777777777778,\"#fb9f3a\"],[0.8888888888888888,\"#fdca26\"],[1.0,\"#f0f921\"]],\"type\":\"histogram2dcontour\"}],\"histogram2d\":[{\"colorbar\":{\"outlinewidth\":0,\"ticks\":\"\"},\"colorscale\":[[0.0,\"#0d0887\"],[0.1111111111111111,\"#46039f\"],[0.2222222222222222,\"#7201a8\"],[0.3333333333333333,\"#9c179e\"],[0.4444444444444444,\"#bd3786\"],[0.5555555555555556,\"#d8576b\"],[0.6666666666666666,\"#ed7953\"],[0.7777777777777778,\"#fb9f3a\"],[0.8888888888888888,\"#fdca26\"],[1.0,\"#f0f921\"]],\"type\":\"histogram2d\"}],\"histogram\":[{\"marker\":{\"pattern\":{\"fillmode\":\"overlay\",\"size\":10,\"solidity\":0.2}},\"type\":\"histogram\"}],\"mesh3d\":[{\"colorbar\":{\"outlinewidth\":0,\"ticks\":\"\"},\"type\":\"mesh3d\"}],\"parcoords\":[{\"line\":{\"colorbar\":{\"outlinewidth\":0,\"ticks\":\"\"}},\"type\":\"parcoords\"}],\"pie\":[{\"automargin\":true,\"type\":\"pie\"}],\"scatter3d\":[{\"line\":{\"colorbar\":{\"outlinewidth\":0,\"ticks\":\"\"}},\"marker\":{\"colorbar\":{\"outlinewidth\":0,\"ticks\":\"\"}},\"type\":\"scatter3d\"}],\"scattercarpet\":[{\"marker\":{\"colorbar\":{\"outlinewidth\":0,\"ticks\":\"\"}},\"type\":\"scattercarpet\"}],\"scattergeo\":[{\"marker\":{\"colorbar\":{\"outlinewidth\":0,\"ticks\":\"\"}},\"type\":\"scattergeo\"}],\"scattergl\":[{\"marker\":{\"colorbar\":{\"outlinewidth\":0,\"ticks\":\"\"}},\"type\":\"scattergl\"}],\"scattermapbox\":[{\"marker\":{\"colorbar\":{\"outlinewidth\":0,\"ticks\":\"\"}},\"type\":\"scattermapbox\"}],\"scatterpolargl\":[{\"marker\":{\"colorbar\":{\"outlinewidth\":0,\"ticks\":\"\"}},\"type\":\"scatterpolargl\"}],\"scatterpolar\":[{\"marker\":{\"colorbar\":{\"outlinewidth\":0,\"ticks\":\"\"}},\"type\":\"scatterpolar\"}],\"scatter\":[{\"fillpattern\":{\"fillmode\":\"overlay\",\"size\":10,\"solidity\":0.2},\"type\":\"scatter\"}],\"scatterternary\":[{\"marker\":{\"colorbar\":{\"outlinewidth\":0,\"ticks\":\"\"}},\"type\":\"scatterternary\"}],\"surface\":[{\"colorbar\":{\"outlinewidth\":0,\"ticks\":\"\"},\"colorscale\":[[0.0,\"#0d0887\"],[0.1111111111111111,\"#46039f\"],[0.2222222222222222,\"#7201a8\"],[0.3333333333333333,\"#9c179e\"],[0.4444444444444444,\"#bd3786\"],[0.5555555555555556,\"#d8576b\"],[0.6666666666666666,\"#ed7953\"],[0.7777777777777778,\"#fb9f3a\"],[0.8888888888888888,\"#fdca26\"],[1.0,\"#f0f921\"]],\"type\":\"surface\"}],\"table\":[{\"cells\":{\"fill\":{\"color\":\"#EBF0F8\"},\"line\":{\"color\":\"white\"}},\"header\":{\"fill\":{\"color\":\"#C8D4E3\"},\"line\":{\"color\":\"white\"}},\"type\":\"table\"}]},\"layout\":{\"annotationdefaults\":{\"arrowcolor\":\"#2a3f5f\",\"arrowhead\":0,\"arrowwidth\":1},\"autotypenumbers\":\"strict\",\"coloraxis\":{\"colorbar\":{\"outlinewidth\":0,\"ticks\":\"\"}},\"colorscale\":{\"diverging\":[[0,\"#8e0152\"],[0.1,\"#c51b7d\"],[0.2,\"#de77ae\"],[0.3,\"#f1b6da\"],[0.4,\"#fde0ef\"],[0.5,\"#f7f7f7\"],[0.6,\"#e6f5d0\"],[0.7,\"#b8e186\"],[0.8,\"#7fbc41\"],[0.9,\"#4d9221\"],[1,\"#276419\"]],\"sequential\":[[0.0,\"#0d0887\"],[0.1111111111111111,\"#46039f\"],[0.2222222222222222,\"#7201a8\"],[0.3333333333333333,\"#9c179e\"],[0.4444444444444444,\"#bd3786\"],[0.5555555555555556,\"#d8576b\"],[0.6666666666666666,\"#ed7953\"],[0.7777777777777778,\"#fb9f3a\"],[0.8888888888888888,\"#fdca26\"],[1.0,\"#f0f921\"]],\"sequentialminus\":[[0.0,\"#0d0887\"],[0.1111111111111111,\"#46039f\"],[0.2222222222222222,\"#7201a8\"],[0.3333333333333333,\"#9c179e\"],[0.4444444444444444,\"#bd3786\"],[0.5555555555555556,\"#d8576b\"],[0.6666666666666666,\"#ed7953\"],[0.7777777777777778,\"#fb9f3a\"],[0.8888888888888888,\"#fdca26\"],[1.0,\"#f0f921\"]]},\"colorway\":[\"#636efa\",\"#EF553B\",\"#00cc96\",\"#ab63fa\",\"#FFA15A\",\"#19d3f3\",\"#FF6692\",\"#B6E880\",\"#FF97FF\",\"#FECB52\"],\"font\":{\"color\":\"#2a3f5f\"},\"geo\":{\"bgcolor\":\"white\",\"lakecolor\":\"white\",\"landcolor\":\"white\",\"showlakes\":true,\"showland\":true,\"subunitcolor\":\"#C8D4E3\"},\"hoverlabel\":{\"align\":\"left\"},\"hovermode\":\"closest\",\"mapbox\":{\"style\":\"light\"},\"paper_bgcolor\":\"white\",\"plot_bgcolor\":\"white\",\"polar\":{\"angularaxis\":{\"gridcolor\":\"#EBF0F8\",\"linecolor\":\"#EBF0F8\",\"ticks\":\"\"},\"bgcolor\":\"white\",\"radialaxis\":{\"gridcolor\":\"#EBF0F8\",\"linecolor\":\"#EBF0F8\",\"ticks\":\"\"}},\"scene\":{\"xaxis\":{\"backgroundcolor\":\"white\",\"gridcolor\":\"#DFE8F3\",\"gridwidth\":2,\"linecolor\":\"#EBF0F8\",\"showbackground\":true,\"ticks\":\"\",\"zerolinecolor\":\"#EBF0F8\"},\"yaxis\":{\"backgroundcolor\":\"white\",\"gridcolor\":\"#DFE8F3\",\"gridwidth\":2,\"linecolor\":\"#EBF0F8\",\"showbackground\":true,\"ticks\":\"\",\"zerolinecolor\":\"#EBF0F8\"},\"zaxis\":{\"backgroundcolor\":\"white\",\"gridcolor\":\"#DFE8F3\",\"gridwidth\":2,\"linecolor\":\"#EBF0F8\",\"showbackground\":true,\"ticks\":\"\",\"zerolinecolor\":\"#EBF0F8\"}},\"shapedefaults\":{\"line\":{\"color\":\"#2a3f5f\"}},\"ternary\":{\"aaxis\":{\"gridcolor\":\"#DFE8F3\",\"linecolor\":\"#A2B1C6\",\"ticks\":\"\"},\"baxis\":{\"gridcolor\":\"#DFE8F3\",\"linecolor\":\"#A2B1C6\",\"ticks\":\"\"},\"bgcolor\":\"white\",\"caxis\":{\"gridcolor\":\"#DFE8F3\",\"linecolor\":\"#A2B1C6\",\"ticks\":\"\"}},\"title\":{\"x\":0.05},\"xaxis\":{\"automargin\":true,\"gridcolor\":\"#EBF0F8\",\"linecolor\":\"#EBF0F8\",\"ticks\":\"\",\"title\":{\"standoff\":15},\"zerolinecolor\":\"#EBF0F8\",\"zerolinewidth\":2},\"yaxis\":{\"automargin\":true,\"gridcolor\":\"#EBF0F8\",\"linecolor\":\"#EBF0F8\",\"ticks\":\"\",\"title\":{\"standoff\":15},\"zerolinecolor\":\"#EBF0F8\",\"zerolinewidth\":2}}},\"xaxis\":{\"anchor\":\"y\",\"domain\":[0.0,1.0],\"title\":{\"text\":\"<b>Published Date</b>\"}},\"yaxis\":{\"anchor\":\"x\",\"domain\":[0.0,1.0],\"title\":{\"text\":\"<b>Number of Views</b>\"}},\"legend\":{\"tracegroupgap\":0},\"margin\":{\"t\":60},\"barmode\":\"relative\",\"bargap\":0.1,\"title\":{\"font\":{\"size\":30,\"family\":\"Arial\"},\"text\":\"<b>View Count Trend: April to June 2023</b>\",\"x\":0.5},\"images\":[{\"layer\":\"above\",\"opacity\":1,\"sizex\":0.2,\"sizey\":0.2,\"source\":\"data:image/png;base64,iVBORw0KGgoAAAANSUhEUgAAAOEAAADhCAMAAAAJbSJIAAAAdVBMVEUAAAD////p6ekMDAzu7u7i4uLIyMizs7PPz8+2trbf39+6urr7+/ugoKCoqKhTU1Oampr19fXBwcE6Ojpra2t8fHzV1dWlpaU0NDRfX1+RkZEuLi6tra3Nzc10dHQlJSVERERGRkaGhoYbGxuUlJRPT09bW1vNkHoDAAAEZElEQVR4nO2b6VriMBRAKYJgKwjIosgIOozv/4jjQtubjd4600b6nfMzvemXQ5v0ZqHXAwAAAAAAAAAAAAAAAAAAAAAAAAAAAAAAAAAAAAAAAAAAqMfD8vF37DZUsV2kwwDp+Drbvf4J1z3eJu8MnttrbX2ePttYQTrzVx7nAYHrPwKN4AfrR7futrx8337LlcyUgh8P8smuPCgv7mI0XsU4bOQysyqLS9cxGq+iX8fQ8rjqoGEylnU7aWj0t24aJm9l3cszvLHIFmP3WzIo616eoTdgmVmKq+JSRwzfGRmGv4ry7hj2loZiUdwhQ5meJckyL+2SoRE2yQs7ZfgqwrK8sFOGUmbhK7x4Q5lkF4NptwznnX+GIrmp6of759lkM5mtnOlkHL7xlp4dS40U6Pq10bbrUBruRVixnOEarsTL/MW0aYFKlIYTX5htuB/afh+swndtBaWh6IbFQGMb3vn8EpnIRkFnuBBRd0WpaRgSTJJ+Cx5hVIYbEbQui03DoKAxp2wfheEhla0VS/jSMFufMUzSVlz8VBkejoZfObHomYYVC8sT373bQRqOLdbDud3Srax7ZV/9VF1n2SJ1ig+R/OquRJkjv8dwk7/EB2vxY9i+2ok6hn1rc8IxNJLTJ/PWnm2PdtAbzp0UzDa0O5uxYxBtsFEbjt26lmHmBBg5zqF5GS813tLU3gc1DT0fvd/yeqwMtdZIMzQ7omno62gyVYj12a+5qh/+WngFjIh2hBz+185M4JsuM51Ik4xzX/z3b35/bisKE8PwxXv7o4iI1BGr89I/U9Oy7G+Kd/BeRERaylHNLVZS5bYoloahz50IiTTUKGfA4kxCsskLvYuoFiIjvw2ENMw3VqKKOGk4+sf7N4e2Bc8iLh8UpWFoGEmV928O9W88L+Py9EwabgLVLshQbJPmHapjz1COp1dfRZp+KIaoHz7S9F5E4Ck91YylIuSnGz6JwNNiTc3vYaQZotpQZienaZQip3kTEe78sRXUhvK0gucZBvLSqYiItN6mNpQ7F6dlb8XcQt7+zRvROGpDOezvv4qq54eH6ve4cbSG9562Vs/x5X7H2nO9DbSGQ09bK9dpXuT1YwOt16A0vJFtnZ0KrbU29yD0/Ae8pDrDvblKf+qGznrp1qpm1Ip2lEFhuLo2RYqVU2fN20jdHgbGtWjnFqThyOYmW6TGm/ZJsaTo7lvcFp3twdq3iHcapfYZYTGL8O49pdlut1s4v0u8fw7VNhSbSNLQe0ihJOKxk7qG8psgDY/ulqEg5ompmobGNqA5xz9TK+Ymd+/s9ruDNc81DMNnMaIKGgl1FcM7q7L4HizD52kizZoK1H7O5pr8eT7n7/4zUdH/m3hQ/T0vnTz4KhdKp6f7OrcrhtbgWmW2HoTpp4vR1n47S77y1fRQFKxkx17bedxF8rJ8uzJL7rfT0c1ouvXP+gEAAAAAAAAAAAAAAAAAAAAAAAAAAAAAAAAAAAAAAAAAAAAAQMtfV2kpQKhRbmUAAAAASUVORK5CYII=\",\"x\":1,\"xanchor\":\"right\",\"xref\":\"paper\",\"y\":1.15,\"yanchor\":\"top\",\"yref\":\"paper\"}]},                        {\"responsive\": true}                    ).then(function(){\n",
              "                            \n",
              "var gd = document.getElementById('3d51ac50-a0b5-41aa-abb8-450558632d50');\n",
              "var x = new MutationObserver(function (mutations, observer) {{\n",
              "        var display = window.getComputedStyle(gd).display;\n",
              "        if (!display || display === 'none') {{\n",
              "            console.log([gd, 'removed!']);\n",
              "            Plotly.purge(gd);\n",
              "            observer.disconnect();\n",
              "        }}\n",
              "}});\n",
              "\n",
              "// Listen for the removal of the full notebook cells\n",
              "var notebookContainer = gd.closest('#notebook-container');\n",
              "if (notebookContainer) {{\n",
              "    x.observe(notebookContainer, {childList: true});\n",
              "}}\n",
              "\n",
              "// Listen for the clearing of the current output cell\n",
              "var outputEl = gd.closest('.output');\n",
              "if (outputEl) {{\n",
              "    x.observe(outputEl, {childList: true});\n",
              "}}\n",
              "\n",
              "                        })                };                            </script>        </div>\n",
              "</body>\n",
              "</html>"
            ]
          },
          "metadata": {}
        }
      ]
    },
    {
      "cell_type": "markdown",
      "source": [
        "**Below chart reperesents Video Metrics**\n",
        "- The chart represents a interactive horizontal bar chart displaying the video metrics in a descending order from top to bottom.\n",
        "- The chart includes interactive buttons that allows us to dynamically change the data being displayed .\n",
        "- The three buttons that present are:\n",
        "1.   Most Viewed Video\n",
        "2.   Most Liked Video\n",
        "3.   Most Commented Video\n",
        "\n",
        "\n",
        "\n"
      ],
      "metadata": {
        "id": "CC8RdgxtuG1M"
      }
    },
    {
      "cell_type": "code",
      "source": [
        "# sort the dataframe according to required column\n",
        "df_view = df.sort_values(by='view_count')\n",
        "df_like = df.sort_values(by='like_count')\n",
        "df_comment = df.sort_values(by='comment_count')\n",
        "\n",
        "\n",
        "# Define color scale for plot\n",
        "color_scale =  px.colors.sequential.Plasma[::-1]\n",
        "\n",
        "\n",
        "# Plot horizontal bar chart\n",
        "fig = px.bar(df_view, x=\"view_count\", y=\"title\",orientation='h',color='view_count',\n",
        "    color_continuous_scale=color_scale)\n",
        "fig.update_layout(title = {'text':'<b>Video Metrics</b>','font':{'size':30,'family':'Arial'}},title_x=0.5, xaxis_title=\"<b>View Count</b>\", yaxis_title=\"<b>Video</b>\")\n",
        "fig.update_traces(hovertemplate='Count: %{x}<br>Title: %{y}')\n",
        "fig.update_layout(template=\"plotly_white\")\n",
        "buttons = [\n",
        "    dict(\n",
        "        label='Most Viwed',\n",
        "        method='update',\n",
        "        args=[{'x': [df_view['view_count']], 'y': [df_view['title']]},\n",
        "               {'xaxis': {'title': '<b>View Count</b>'}}]\n",
        "    ),\n",
        "    dict(\n",
        "        label='Most Liked',\n",
        "        method='update',\n",
        "        args=[{'x': [df_like['like_count']], 'y': [df_like['title']]},\n",
        "              {'xaxis': {'title': '<b>Like Count</b>'}}]\n",
        "\n",
        "    ),\n",
        "     dict(\n",
        "        label='Most Commented',\n",
        "        method='update',\n",
        "        args=[{'x': [df_comment['comment_count']], 'y': [df_comment['title']]},\n",
        "              {'xaxis': {'title': '<b>Comment Count</b>'}}]\n",
        "        )\n",
        "\n",
        "]\n",
        "\n",
        "fig.update_layout(\n",
        "    updatemenus=[\n",
        "        dict(\n",
        "            type=\"buttons\",\n",
        "            buttons=buttons,\n",
        "            direction='left',\n",
        "            pad={'r': 10, 't': 10},\n",
        "            showactive=True,\n",
        "            x=-0.5,\n",
        "            xanchor='left',\n",
        "            y=1.2,\n",
        "            yanchor='top'\n",
        "        )\n",
        "    ],\n",
        "    xaxis={'title': '<b>View Count</b>'}\n",
        ")\n",
        "fig.update(layout_coloraxis_showscale=False)\n",
        "\n",
        "# Add logo to plot\n",
        "img = Image.open(\"image.png\")\n",
        "fig.add_layout_image(\n",
        "    dict(\n",
        "        source=img,\n",
        "        xref=\"paper\",\n",
        "        yref=\"paper\",\n",
        "        x=0.95,\n",
        "        y=1.25,\n",
        "        sizex=0.2,\n",
        "        sizey=0.2,\n",
        "        xanchor=\"right\",\n",
        "        yanchor=\"top\",\n",
        "        opacity=1,\n",
        "        layer=\"above\"\n",
        "    )\n",
        ")\n",
        "\n",
        "# Display the final plot\n",
        "fig.show()"
      ],
      "metadata": {
        "colab": {
          "base_uri": "https://localhost:8080/",
          "height": 542
        },
        "id": "CP-KX7LvIXiu",
        "outputId": "dbb0d5cb-1939-43cf-f859-c01c295388ca"
      },
      "execution_count": 100,
      "outputs": [
        {
          "output_type": "display_data",
          "data": {
            "text/html": [
              "<html>\n",
              "<head><meta charset=\"utf-8\" /></head>\n",
              "<body>\n",
              "    <div>            <script src=\"https://cdnjs.cloudflare.com/ajax/libs/mathjax/2.7.5/MathJax.js?config=TeX-AMS-MML_SVG\"></script><script type=\"text/javascript\">if (window.MathJax && window.MathJax.Hub && window.MathJax.Hub.Config) {window.MathJax.Hub.Config({SVG: {font: \"STIX-Web\"}});}</script>                <script type=\"text/javascript\">window.PlotlyConfig = {MathJaxConfig: 'local'};</script>\n",
              "        <script src=\"https://cdn.plot.ly/plotly-2.18.2.min.js\"></script>                <div id=\"6bab33eb-fb7b-4981-a2f1-541a773730ec\" class=\"plotly-graph-div\" style=\"height:525px; width:100%;\"></div>            <script type=\"text/javascript\">                                    window.PLOTLYENV=window.PLOTLYENV || {};                                    if (document.getElementById(\"6bab33eb-fb7b-4981-a2f1-541a773730ec\")) {                    Plotly.newPlot(                        \"6bab33eb-fb7b-4981-a2f1-541a773730ec\",                        [{\"alignmentgroup\":\"True\",\"hovertemplate\":\"Count: %{x}<br>Title: %{y}\",\"legendgroup\":\"\",\"marker\":{\"color\":[77679,85160,87286,88708,102182,103402,120612,124445,168100,217477,271683,289383,310079,321738,370521,408002,408625,562316,683052,1227866],\"coloraxis\":\"coloraxis\",\"pattern\":{\"shape\":\"\"}},\"name\":\"\",\"offsetgroup\":\"\",\"orientation\":\"h\",\"showlegend\":false,\"textposition\":\"auto\",\"x\":[77679,85160,87286,88708,102182,103402,120612,124445,168100,217477,271683,289383,310079,321738,370521,408002,408625,562316,683052,1227866],\"xaxis\":\"x\",\"y\":[\"ASUS ROG Strix G18: Core i9 + 4070 at Great Price?\",\"ASUS Zenbook Pro 14 Duo (2023): Dual Screens Get Better!\",\"Samsung Galaxy F54 First Impressions!\",\"Dell Inspiron 16 2-in-1 (2023): Really Good Hardware!\",\"Tecno Phantom V Fold: Finally, An Affordable Foldable!\",\"Dell G16 (2023): High Performance, Better Price!\",\"ASUS ZenBook S13 OLED: The Ultra Light Windows Champ!\",\"QLED vs LED TV at 30K: Don't Make This Mistake!\",\"Lava Agni 2 Review: The Good, The Bad, The Best!\",\"7 Dangerous Android Settings You Need to Turn Off!\",\"Moto Edge 40: A Good Option Under 30K?\",\"The Best Laptop Deal for Students!\",\"POCO F5: Snapdragon 7+ Gen 2 is \\ud83d\\udd25\",\"Pixel 7a: Google Fixed It!\",\"8 Super Useful Gadgets for Students!\",\"OnePlus Pad: Impressive Android Tablet!\",\"15 Quality Deals on Flipkart & Amazon Right Now!\",\"The Best Phone Deal Right Now!\",\"7 Awesome Gadgets for Home!\",\"The Best Phone Under \\u20b920,000!\"],\"yaxis\":\"y\",\"type\":\"bar\"}],                        {\"template\":{\"data\":{\"barpolar\":[{\"marker\":{\"line\":{\"color\":\"white\",\"width\":0.5},\"pattern\":{\"fillmode\":\"overlay\",\"size\":10,\"solidity\":0.2}},\"type\":\"barpolar\"}],\"bar\":[{\"error_x\":{\"color\":\"#2a3f5f\"},\"error_y\":{\"color\":\"#2a3f5f\"},\"marker\":{\"line\":{\"color\":\"white\",\"width\":0.5},\"pattern\":{\"fillmode\":\"overlay\",\"size\":10,\"solidity\":0.2}},\"type\":\"bar\"}],\"carpet\":[{\"aaxis\":{\"endlinecolor\":\"#2a3f5f\",\"gridcolor\":\"#C8D4E3\",\"linecolor\":\"#C8D4E3\",\"minorgridcolor\":\"#C8D4E3\",\"startlinecolor\":\"#2a3f5f\"},\"baxis\":{\"endlinecolor\":\"#2a3f5f\",\"gridcolor\":\"#C8D4E3\",\"linecolor\":\"#C8D4E3\",\"minorgridcolor\":\"#C8D4E3\",\"startlinecolor\":\"#2a3f5f\"},\"type\":\"carpet\"}],\"choropleth\":[{\"colorbar\":{\"outlinewidth\":0,\"ticks\":\"\"},\"type\":\"choropleth\"}],\"contourcarpet\":[{\"colorbar\":{\"outlinewidth\":0,\"ticks\":\"\"},\"type\":\"contourcarpet\"}],\"contour\":[{\"colorbar\":{\"outlinewidth\":0,\"ticks\":\"\"},\"colorscale\":[[0.0,\"#0d0887\"],[0.1111111111111111,\"#46039f\"],[0.2222222222222222,\"#7201a8\"],[0.3333333333333333,\"#9c179e\"],[0.4444444444444444,\"#bd3786\"],[0.5555555555555556,\"#d8576b\"],[0.6666666666666666,\"#ed7953\"],[0.7777777777777778,\"#fb9f3a\"],[0.8888888888888888,\"#fdca26\"],[1.0,\"#f0f921\"]],\"type\":\"contour\"}],\"heatmapgl\":[{\"colorbar\":{\"outlinewidth\":0,\"ticks\":\"\"},\"colorscale\":[[0.0,\"#0d0887\"],[0.1111111111111111,\"#46039f\"],[0.2222222222222222,\"#7201a8\"],[0.3333333333333333,\"#9c179e\"],[0.4444444444444444,\"#bd3786\"],[0.5555555555555556,\"#d8576b\"],[0.6666666666666666,\"#ed7953\"],[0.7777777777777778,\"#fb9f3a\"],[0.8888888888888888,\"#fdca26\"],[1.0,\"#f0f921\"]],\"type\":\"heatmapgl\"}],\"heatmap\":[{\"colorbar\":{\"outlinewidth\":0,\"ticks\":\"\"},\"colorscale\":[[0.0,\"#0d0887\"],[0.1111111111111111,\"#46039f\"],[0.2222222222222222,\"#7201a8\"],[0.3333333333333333,\"#9c179e\"],[0.4444444444444444,\"#bd3786\"],[0.5555555555555556,\"#d8576b\"],[0.6666666666666666,\"#ed7953\"],[0.7777777777777778,\"#fb9f3a\"],[0.8888888888888888,\"#fdca26\"],[1.0,\"#f0f921\"]],\"type\":\"heatmap\"}],\"histogram2dcontour\":[{\"colorbar\":{\"outlinewidth\":0,\"ticks\":\"\"},\"colorscale\":[[0.0,\"#0d0887\"],[0.1111111111111111,\"#46039f\"],[0.2222222222222222,\"#7201a8\"],[0.3333333333333333,\"#9c179e\"],[0.4444444444444444,\"#bd3786\"],[0.5555555555555556,\"#d8576b\"],[0.6666666666666666,\"#ed7953\"],[0.7777777777777778,\"#fb9f3a\"],[0.8888888888888888,\"#fdca26\"],[1.0,\"#f0f921\"]],\"type\":\"histogram2dcontour\"}],\"histogram2d\":[{\"colorbar\":{\"outlinewidth\":0,\"ticks\":\"\"},\"colorscale\":[[0.0,\"#0d0887\"],[0.1111111111111111,\"#46039f\"],[0.2222222222222222,\"#7201a8\"],[0.3333333333333333,\"#9c179e\"],[0.4444444444444444,\"#bd3786\"],[0.5555555555555556,\"#d8576b\"],[0.6666666666666666,\"#ed7953\"],[0.7777777777777778,\"#fb9f3a\"],[0.8888888888888888,\"#fdca26\"],[1.0,\"#f0f921\"]],\"type\":\"histogram2d\"}],\"histogram\":[{\"marker\":{\"pattern\":{\"fillmode\":\"overlay\",\"size\":10,\"solidity\":0.2}},\"type\":\"histogram\"}],\"mesh3d\":[{\"colorbar\":{\"outlinewidth\":0,\"ticks\":\"\"},\"type\":\"mesh3d\"}],\"parcoords\":[{\"line\":{\"colorbar\":{\"outlinewidth\":0,\"ticks\":\"\"}},\"type\":\"parcoords\"}],\"pie\":[{\"automargin\":true,\"type\":\"pie\"}],\"scatter3d\":[{\"line\":{\"colorbar\":{\"outlinewidth\":0,\"ticks\":\"\"}},\"marker\":{\"colorbar\":{\"outlinewidth\":0,\"ticks\":\"\"}},\"type\":\"scatter3d\"}],\"scattercarpet\":[{\"marker\":{\"colorbar\":{\"outlinewidth\":0,\"ticks\":\"\"}},\"type\":\"scattercarpet\"}],\"scattergeo\":[{\"marker\":{\"colorbar\":{\"outlinewidth\":0,\"ticks\":\"\"}},\"type\":\"scattergeo\"}],\"scattergl\":[{\"marker\":{\"colorbar\":{\"outlinewidth\":0,\"ticks\":\"\"}},\"type\":\"scattergl\"}],\"scattermapbox\":[{\"marker\":{\"colorbar\":{\"outlinewidth\":0,\"ticks\":\"\"}},\"type\":\"scattermapbox\"}],\"scatterpolargl\":[{\"marker\":{\"colorbar\":{\"outlinewidth\":0,\"ticks\":\"\"}},\"type\":\"scatterpolargl\"}],\"scatterpolar\":[{\"marker\":{\"colorbar\":{\"outlinewidth\":0,\"ticks\":\"\"}},\"type\":\"scatterpolar\"}],\"scatter\":[{\"fillpattern\":{\"fillmode\":\"overlay\",\"size\":10,\"solidity\":0.2},\"type\":\"scatter\"}],\"scatterternary\":[{\"marker\":{\"colorbar\":{\"outlinewidth\":0,\"ticks\":\"\"}},\"type\":\"scatterternary\"}],\"surface\":[{\"colorbar\":{\"outlinewidth\":0,\"ticks\":\"\"},\"colorscale\":[[0.0,\"#0d0887\"],[0.1111111111111111,\"#46039f\"],[0.2222222222222222,\"#7201a8\"],[0.3333333333333333,\"#9c179e\"],[0.4444444444444444,\"#bd3786\"],[0.5555555555555556,\"#d8576b\"],[0.6666666666666666,\"#ed7953\"],[0.7777777777777778,\"#fb9f3a\"],[0.8888888888888888,\"#fdca26\"],[1.0,\"#f0f921\"]],\"type\":\"surface\"}],\"table\":[{\"cells\":{\"fill\":{\"color\":\"#EBF0F8\"},\"line\":{\"color\":\"white\"}},\"header\":{\"fill\":{\"color\":\"#C8D4E3\"},\"line\":{\"color\":\"white\"}},\"type\":\"table\"}]},\"layout\":{\"annotationdefaults\":{\"arrowcolor\":\"#2a3f5f\",\"arrowhead\":0,\"arrowwidth\":1},\"autotypenumbers\":\"strict\",\"coloraxis\":{\"colorbar\":{\"outlinewidth\":0,\"ticks\":\"\"}},\"colorscale\":{\"diverging\":[[0,\"#8e0152\"],[0.1,\"#c51b7d\"],[0.2,\"#de77ae\"],[0.3,\"#f1b6da\"],[0.4,\"#fde0ef\"],[0.5,\"#f7f7f7\"],[0.6,\"#e6f5d0\"],[0.7,\"#b8e186\"],[0.8,\"#7fbc41\"],[0.9,\"#4d9221\"],[1,\"#276419\"]],\"sequential\":[[0.0,\"#0d0887\"],[0.1111111111111111,\"#46039f\"],[0.2222222222222222,\"#7201a8\"],[0.3333333333333333,\"#9c179e\"],[0.4444444444444444,\"#bd3786\"],[0.5555555555555556,\"#d8576b\"],[0.6666666666666666,\"#ed7953\"],[0.7777777777777778,\"#fb9f3a\"],[0.8888888888888888,\"#fdca26\"],[1.0,\"#f0f921\"]],\"sequentialminus\":[[0.0,\"#0d0887\"],[0.1111111111111111,\"#46039f\"],[0.2222222222222222,\"#7201a8\"],[0.3333333333333333,\"#9c179e\"],[0.4444444444444444,\"#bd3786\"],[0.5555555555555556,\"#d8576b\"],[0.6666666666666666,\"#ed7953\"],[0.7777777777777778,\"#fb9f3a\"],[0.8888888888888888,\"#fdca26\"],[1.0,\"#f0f921\"]]},\"colorway\":[\"#636efa\",\"#EF553B\",\"#00cc96\",\"#ab63fa\",\"#FFA15A\",\"#19d3f3\",\"#FF6692\",\"#B6E880\",\"#FF97FF\",\"#FECB52\"],\"font\":{\"color\":\"#2a3f5f\"},\"geo\":{\"bgcolor\":\"white\",\"lakecolor\":\"white\",\"landcolor\":\"white\",\"showlakes\":true,\"showland\":true,\"subunitcolor\":\"#C8D4E3\"},\"hoverlabel\":{\"align\":\"left\"},\"hovermode\":\"closest\",\"mapbox\":{\"style\":\"light\"},\"paper_bgcolor\":\"white\",\"plot_bgcolor\":\"white\",\"polar\":{\"angularaxis\":{\"gridcolor\":\"#EBF0F8\",\"linecolor\":\"#EBF0F8\",\"ticks\":\"\"},\"bgcolor\":\"white\",\"radialaxis\":{\"gridcolor\":\"#EBF0F8\",\"linecolor\":\"#EBF0F8\",\"ticks\":\"\"}},\"scene\":{\"xaxis\":{\"backgroundcolor\":\"white\",\"gridcolor\":\"#DFE8F3\",\"gridwidth\":2,\"linecolor\":\"#EBF0F8\",\"showbackground\":true,\"ticks\":\"\",\"zerolinecolor\":\"#EBF0F8\"},\"yaxis\":{\"backgroundcolor\":\"white\",\"gridcolor\":\"#DFE8F3\",\"gridwidth\":2,\"linecolor\":\"#EBF0F8\",\"showbackground\":true,\"ticks\":\"\",\"zerolinecolor\":\"#EBF0F8\"},\"zaxis\":{\"backgroundcolor\":\"white\",\"gridcolor\":\"#DFE8F3\",\"gridwidth\":2,\"linecolor\":\"#EBF0F8\",\"showbackground\":true,\"ticks\":\"\",\"zerolinecolor\":\"#EBF0F8\"}},\"shapedefaults\":{\"line\":{\"color\":\"#2a3f5f\"}},\"ternary\":{\"aaxis\":{\"gridcolor\":\"#DFE8F3\",\"linecolor\":\"#A2B1C6\",\"ticks\":\"\"},\"baxis\":{\"gridcolor\":\"#DFE8F3\",\"linecolor\":\"#A2B1C6\",\"ticks\":\"\"},\"bgcolor\":\"white\",\"caxis\":{\"gridcolor\":\"#DFE8F3\",\"linecolor\":\"#A2B1C6\",\"ticks\":\"\"}},\"title\":{\"x\":0.05},\"xaxis\":{\"automargin\":true,\"gridcolor\":\"#EBF0F8\",\"linecolor\":\"#EBF0F8\",\"ticks\":\"\",\"title\":{\"standoff\":15},\"zerolinecolor\":\"#EBF0F8\",\"zerolinewidth\":2},\"yaxis\":{\"automargin\":true,\"gridcolor\":\"#EBF0F8\",\"linecolor\":\"#EBF0F8\",\"ticks\":\"\",\"title\":{\"standoff\":15},\"zerolinecolor\":\"#EBF0F8\",\"zerolinewidth\":2}}},\"xaxis\":{\"anchor\":\"y\",\"domain\":[0.0,1.0],\"title\":{\"text\":\"<b>View Count</b>\"}},\"yaxis\":{\"anchor\":\"x\",\"domain\":[0.0,1.0],\"title\":{\"text\":\"<b>Video</b>\"}},\"coloraxis\":{\"colorbar\":{\"title\":{\"text\":\"view_count\"}},\"colorscale\":[[0.0,\"#f0f921\"],[0.1111111111111111,\"#fdca26\"],[0.2222222222222222,\"#fb9f3a\"],[0.3333333333333333,\"#ed7953\"],[0.4444444444444444,\"#d8576b\"],[0.5555555555555556,\"#bd3786\"],[0.6666666666666666,\"#9c179e\"],[0.7777777777777778,\"#7201a8\"],[0.8888888888888888,\"#46039f\"],[1.0,\"#0d0887\"]],\"showscale\":false},\"legend\":{\"tracegroupgap\":0},\"margin\":{\"t\":60},\"barmode\":\"relative\",\"title\":{\"font\":{\"size\":30,\"family\":\"Arial\"},\"text\":\"<b>Video Metrics</b>\",\"x\":0.5},\"updatemenus\":[{\"buttons\":[{\"args\":[{\"x\":[[77679,85160,87286,88708,102182,103402,120612,124445,168100,217477,271683,289383,310079,321738,370521,408002,408625,562316,683052,1227866]],\"y\":[[\"ASUS ROG Strix G18: Core i9 + 4070 at Great Price?\",\"ASUS Zenbook Pro 14 Duo (2023): Dual Screens Get Better!\",\"Samsung Galaxy F54 First Impressions!\",\"Dell Inspiron 16 2-in-1 (2023): Really Good Hardware!\",\"Tecno Phantom V Fold: Finally, An Affordable Foldable!\",\"Dell G16 (2023): High Performance, Better Price!\",\"ASUS ZenBook S13 OLED: The Ultra Light Windows Champ!\",\"QLED vs LED TV at 30K: Don't Make This Mistake!\",\"Lava Agni 2 Review: The Good, The Bad, The Best!\",\"7 Dangerous Android Settings You Need to Turn Off!\",\"Moto Edge 40: A Good Option Under 30K?\",\"The Best Laptop Deal for Students!\",\"POCO F5: Snapdragon 7+ Gen 2 is \\ud83d\\udd25\",\"Pixel 7a: Google Fixed It!\",\"8 Super Useful Gadgets for Students!\",\"OnePlus Pad: Impressive Android Tablet!\",\"15 Quality Deals on Flipkart & Amazon Right Now!\",\"The Best Phone Deal Right Now!\",\"7 Awesome Gadgets for Home!\",\"The Best Phone Under \\u20b920,000!\"]]},{\"xaxis\":{\"title\":\"<b>View Count</b>\"}}],\"label\":\"Most Viwed\",\"method\":\"update\"},{\"args\":[{\"x\":[[2662,2743,3031,3258,3476,3607,4400,4452,8714,8885,9591,9690,10944,11271,12167,12693,13169,17036,23050,33642]],\"y\":[[\"Dell Inspiron 16 2-in-1 (2023): Really Good Hardware!\",\"ASUS ROG Strix G18: Core i9 + 4070 at Great Price?\",\"ASUS Zenbook Pro 14 Duo (2023): Dual Screens Get Better!\",\"Tecno Phantom V Fold: Finally, An Affordable Foldable!\",\"Samsung Galaxy F54 First Impressions!\",\"Dell G16 (2023): High Performance, Better Price!\",\"ASUS ZenBook S13 OLED: The Ultra Light Windows Champ!\",\"QLED vs LED TV at 30K: Don't Make This Mistake!\",\"The Best Laptop Deal for Students!\",\"Lava Agni 2 Review: The Good, The Bad, The Best!\",\"Moto Edge 40: A Good Option Under 30K?\",\"OnePlus Pad: Impressive Android Tablet!\",\"POCO F5: Snapdragon 7+ Gen 2 is \\ud83d\\udd25\",\"Pixel 7a: Google Fixed It!\",\"15 Quality Deals on Flipkart & Amazon Right Now!\",\"7 Dangerous Android Settings You Need to Turn Off!\",\"8 Super Useful Gadgets for Students!\",\"The Best Phone Deal Right Now!\",\"7 Awesome Gadgets for Home!\",\"The Best Phone Under \\u20b920,000!\"]]},{\"xaxis\":{\"title\":\"<b>Like Count</b>\"}}],\"label\":\"Most Liked\",\"method\":\"update\"},{\"args\":[{\"x\":[[123,187,206,208,252,285,295,354,373,481,509,634,675,820,957,1000,1100,1400,1600,1800]],\"y\":[[\"ASUS Zenbook Pro 14 Duo (2023): Dual Screens Get Better!\",\"Dell Inspiron 16 2-in-1 (2023): Really Good Hardware!\",\"Tecno Phantom V Fold: Finally, An Affordable Foldable!\",\"ASUS ROG Strix G18: Core i9 + 4070 at Great Price?\",\"ASUS ZenBook S13 OLED: The Ultra Light Windows Champ!\",\"Dell G16 (2023): High Performance, Better Price!\",\"QLED vs LED TV at 30K: Don't Make This Mistake!\",\"7 Awesome Gadgets for Home!\",\"7 Dangerous Android Settings You Need to Turn Off!\",\"8 Super Useful Gadgets for Students!\",\"The Best Laptop Deal for Students!\",\"Lava Agni 2 Review: The Good, The Bad, The Best!\",\"Samsung Galaxy F54 First Impressions!\",\"OnePlus Pad: Impressive Android Tablet!\",\"15 Quality Deals on Flipkart & Amazon Right Now!\",\"Moto Edge 40: A Good Option Under 30K?\",\"The Best Phone Deal Right Now!\",\"POCO F5: Snapdragon 7+ Gen 2 is \\ud83d\\udd25\",\"Pixel 7a: Google Fixed It!\",\"The Best Phone Under \\u20b920,000!\"]]},{\"xaxis\":{\"title\":\"<b>Comment Count</b>\"}}],\"label\":\"Most Commented\",\"method\":\"update\"}],\"direction\":\"left\",\"pad\":{\"r\":10,\"t\":10},\"showactive\":true,\"type\":\"buttons\",\"x\":-0.5,\"xanchor\":\"left\",\"y\":1.2,\"yanchor\":\"top\"}],\"images\":[{\"layer\":\"above\",\"opacity\":1,\"sizex\":0.2,\"sizey\":0.2,\"source\":\"data:image/png;base64,iVBORw0KGgoAAAANSUhEUgAAAOEAAADhCAMAAAAJbSJIAAAAdVBMVEUAAAD////p6ekMDAzu7u7i4uLIyMizs7PPz8+2trbf39+6urr7+/ugoKCoqKhTU1Oampr19fXBwcE6Ojpra2t8fHzV1dWlpaU0NDRfX1+RkZEuLi6tra3Nzc10dHQlJSVERERGRkaGhoYbGxuUlJRPT09bW1vNkHoDAAAEZElEQVR4nO2b6VriMBRAKYJgKwjIosgIOozv/4jjQtubjd4600b6nfMzvemXQ5v0ZqHXAwAAAAAAAAAAAAAAAAAAAAAAAAAAAAAAAAAAAAAAAAAAqMfD8vF37DZUsV2kwwDp+Drbvf4J1z3eJu8MnttrbX2ePttYQTrzVx7nAYHrPwKN4AfrR7futrx8337LlcyUgh8P8smuPCgv7mI0XsU4bOQysyqLS9cxGq+iX8fQ8rjqoGEylnU7aWj0t24aJm9l3cszvLHIFmP3WzIo616eoTdgmVmKq+JSRwzfGRmGv4ry7hj2loZiUdwhQ5meJckyL+2SoRE2yQs7ZfgqwrK8sFOGUmbhK7x4Q5lkF4NptwznnX+GIrmp6of759lkM5mtnOlkHL7xlp4dS40U6Pq10bbrUBruRVixnOEarsTL/MW0aYFKlIYTX5htuB/afh+swndtBaWh6IbFQGMb3vn8EpnIRkFnuBBRd0WpaRgSTJJ+Cx5hVIYbEbQui03DoKAxp2wfheEhla0VS/jSMFufMUzSVlz8VBkejoZfObHomYYVC8sT373bQRqOLdbDud3Srax7ZV/9VF1n2SJ1ig+R/OquRJkjv8dwk7/EB2vxY9i+2ok6hn1rc8IxNJLTJ/PWnm2PdtAbzp0UzDa0O5uxYxBtsFEbjt26lmHmBBg5zqF5GS813tLU3gc1DT0fvd/yeqwMtdZIMzQ7omno62gyVYj12a+5qh/+WngFjIh2hBz+185M4JsuM51Ik4xzX/z3b35/bisKE8PwxXv7o4iI1BGr89I/U9Oy7G+Kd/BeRERaylHNLVZS5bYoloahz50IiTTUKGfA4kxCsskLvYuoFiIjvw2ENMw3VqKKOGk4+sf7N4e2Bc8iLh8UpWFoGEmV928O9W88L+Py9EwabgLVLshQbJPmHapjz1COp1dfRZp+KIaoHz7S9F5E4Ck91YylIuSnGz6JwNNiTc3vYaQZotpQZienaZQip3kTEe78sRXUhvK0gucZBvLSqYiItN6mNpQ7F6dlb8XcQt7+zRvROGpDOezvv4qq54eH6ve4cbSG9562Vs/x5X7H2nO9DbSGQ09bK9dpXuT1YwOt16A0vJFtnZ0KrbU29yD0/Ae8pDrDvblKf+qGznrp1qpm1Ip2lEFhuLo2RYqVU2fN20jdHgbGtWjnFqThyOYmW6TGm/ZJsaTo7lvcFp3twdq3iHcapfYZYTGL8O49pdlut1s4v0u8fw7VNhSbSNLQe0ihJOKxk7qG8psgDY/ulqEg5ompmobGNqA5xz9TK+Ymd+/s9ruDNc81DMNnMaIKGgl1FcM7q7L4HizD52kizZoK1H7O5pr8eT7n7/4zUdH/m3hQ/T0vnTz4KhdKp6f7OrcrhtbgWmW2HoTpp4vR1n47S77y1fRQFKxkx17bedxF8rJ8uzJL7rfT0c1ouvXP+gEAAAAAAAAAAAAAAAAAAAAAAAAAAAAAAAAAAAAAAAAAAAAAQMtfV2kpQKhRbmUAAAAASUVORK5CYII=\",\"x\":0.95,\"xanchor\":\"right\",\"xref\":\"paper\",\"y\":1.25,\"yanchor\":\"top\",\"yref\":\"paper\"}]},                        {\"responsive\": true}                    ).then(function(){\n",
              "                            \n",
              "var gd = document.getElementById('6bab33eb-fb7b-4981-a2f1-541a773730ec');\n",
              "var x = new MutationObserver(function (mutations, observer) {{\n",
              "        var display = window.getComputedStyle(gd).display;\n",
              "        if (!display || display === 'none') {{\n",
              "            console.log([gd, 'removed!']);\n",
              "            Plotly.purge(gd);\n",
              "            observer.disconnect();\n",
              "        }}\n",
              "}});\n",
              "\n",
              "// Listen for the removal of the full notebook cells\n",
              "var notebookContainer = gd.closest('#notebook-container');\n",
              "if (notebookContainer) {{\n",
              "    x.observe(notebookContainer, {childList: true});\n",
              "}}\n",
              "\n",
              "// Listen for the clearing of the current output cell\n",
              "var outputEl = gd.closest('.output');\n",
              "if (outputEl) {{\n",
              "    x.observe(outputEl, {childList: true});\n",
              "}}\n",
              "\n",
              "                        })                };                            </script>        </div>\n",
              "</body>\n",
              "</html>"
            ]
          },
          "metadata": {}
        }
      ]
    }
  ]
}
